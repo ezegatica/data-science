{
 "cells": [
  {
   "cell_type": "markdown",
   "id": "65122e23",
   "metadata": {},
   "source": [
    "Te damos la bienvenida al curso de Fundamentos de Data Science. Este notebook es para verificar que hayas podido instalar correctamente el entorno Anaconda con sus librerías, en especial Pandas que es la primera que vamos a estar utilizando.<br><br>\n",
    "Para completar la actividad solo tenés que completar con tu nombre, apellido y tu edad y ejecutar todas las celdas y luego enviar el print de pantalla de que la ejecución fue correcta.<br><br>\n",
    "Exitos!!!"
   ]
  },
  {
   "cell_type": "code",
   "execution_count": 1,
   "id": "7fc74c80",
   "metadata": {},
   "outputs": [],
   "source": [
    "nombre = \"Ezequiel\"\n",
    "apellido = \"Gatica\"\n",
    "edad =  21"
   ]
  },
  {
   "cell_type": "code",
   "execution_count": 2,
   "id": "77574787",
   "metadata": {},
   "outputs": [
    {
     "name": "stdout",
     "output_type": "stream",
     "text": [
      "Bienvenidos a Fundamentos de Data Science, soy Ezequiel Gatica, y tengo 21 años\n"
     ]
    }
   ],
   "source": [
    "print(f\"Bienvenidos a Fundamentos de Data Science, soy {nombre} {apellido}, y tengo {edad} años\")"
   ]
  },
  {
   "cell_type": "code",
   "execution_count": 3,
   "id": "4a17cfa0",
   "metadata": {},
   "outputs": [
    {
     "data": {
      "text/html": [
       "<div>\n",
       "<style scoped>\n",
       "    .dataframe tbody tr th:only-of-type {\n",
       "        vertical-align: middle;\n",
       "    }\n",
       "\n",
       "    .dataframe tbody tr th {\n",
       "        vertical-align: top;\n",
       "    }\n",
       "\n",
       "    .dataframe thead th {\n",
       "        text-align: right;\n",
       "    }\n",
       "</style>\n",
       "<table border=\"1\" class=\"dataframe\">\n",
       "  <thead>\n",
       "    <tr style=\"text-align: right;\">\n",
       "      <th></th>\n",
       "      <th>Nombre</th>\n",
       "      <th>Apellido</th>\n",
       "      <th>Edad</th>\n",
       "    </tr>\n",
       "  </thead>\n",
       "  <tbody>\n",
       "    <tr>\n",
       "      <th>0</th>\n",
       "      <td>Ezequiel</td>\n",
       "      <td>Gatica</td>\n",
       "      <td>21</td>\n",
       "    </tr>\n",
       "  </tbody>\n",
       "</table>\n",
       "</div>"
      ],
      "text/plain": [
       "     Nombre Apellido  Edad\n",
       "0  Ezequiel   Gatica    21"
      ]
     },
     "execution_count": 3,
     "metadata": {},
     "output_type": "execute_result"
    }
   ],
   "source": [
    "import pandas as pd\n",
    "pd.DataFrame({'Nombre':[nombre],'Apellido':[apellido],'Edad':[edad] })"
   ]
  }
 ],
 "metadata": {
  "kernelspec": {
   "display_name": "Python 3",
   "language": "python",
   "name": "python3"
  },
  "language_info": {
   "codemirror_mode": {
    "name": "ipython",
    "version": 3
   },
   "file_extension": ".py",
   "mimetype": "text/x-python",
   "name": "python",
   "nbconvert_exporter": "python",
   "pygments_lexer": "ipython3",
   "version": "3.11.9"
  }
 },
 "nbformat": 4,
 "nbformat_minor": 5
}
