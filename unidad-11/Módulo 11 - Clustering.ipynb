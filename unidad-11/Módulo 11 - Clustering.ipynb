{
 "cells": [
  {
   "cell_type": "markdown",
   "metadata": {},
   "source": [
    "# Clustering\n",
    "\n",
    "En este notebook veremos como aplicar técnicas de clustering para encontrar la presencia de grupos dentro de los datos, para ello utilizaremos los siguientes dos enfoques:\n",
    "1. K-Means\n",
    "2. DBSCAN"
   ]
  },
  {
   "cell_type": "markdown",
   "metadata": {},
   "source": [
    "# K-means"
   ]
  },
  {
   "cell_type": "code",
   "execution_count": 1,
   "metadata": {},
   "outputs": [],
   "source": [
    "%matplotlib inline\n",
    "import numpy as np\n",
    "import matplotlib.pyplot as plt\n",
    "import seaborn as sns; sns.set()\n",
    "from sklearn import datasets\n",
    "import pandas as pd\n",
    "from sklearn import cluster\n",
    "from sklearn import metrics\n",
    "from sklearn.metrics import pairwise_distances\n",
    "import matplotlib\n",
    "matplotlib.style.use('ggplot')"
   ]
  },
  {
   "cell_type": "code",
   "execution_count": 2,
   "metadata": {},
   "outputs": [],
   "source": [
    "#Importamos IRIS data set\n",
    "iris_dataset = datasets.load_iris()"
   ]
  },
  {
   "cell_type": "code",
   "execution_count": 3,
   "metadata": {},
   "outputs": [
    {
     "data": {
      "text/html": [
       "<div>\n",
       "<style scoped>\n",
       "    .dataframe tbody tr th:only-of-type {\n",
       "        vertical-align: middle;\n",
       "    }\n",
       "\n",
       "    .dataframe tbody tr th {\n",
       "        vertical-align: top;\n",
       "    }\n",
       "\n",
       "    .dataframe thead th {\n",
       "        text-align: right;\n",
       "    }\n",
       "</style>\n",
       "<table border=\"1\" class=\"dataframe\">\n",
       "  <thead>\n",
       "    <tr style=\"text-align: right;\">\n",
       "      <th></th>\n",
       "      <th>SepalLength</th>\n",
       "      <th>SepalWidth</th>\n",
       "      <th>PetalLength</th>\n",
       "      <th>PetalWidth</th>\n",
       "      <th>name_num</th>\n",
       "    </tr>\n",
       "  </thead>\n",
       "  <tbody>\n",
       "    <tr>\n",
       "      <th>0</th>\n",
       "      <td>5.1</td>\n",
       "      <td>3.5</td>\n",
       "      <td>1.4</td>\n",
       "      <td>0.2</td>\n",
       "      <td>0</td>\n",
       "    </tr>\n",
       "    <tr>\n",
       "      <th>1</th>\n",
       "      <td>4.9</td>\n",
       "      <td>3.0</td>\n",
       "      <td>1.4</td>\n",
       "      <td>0.2</td>\n",
       "      <td>0</td>\n",
       "    </tr>\n",
       "    <tr>\n",
       "      <th>2</th>\n",
       "      <td>4.7</td>\n",
       "      <td>3.2</td>\n",
       "      <td>1.3</td>\n",
       "      <td>0.2</td>\n",
       "      <td>0</td>\n",
       "    </tr>\n",
       "    <tr>\n",
       "      <th>3</th>\n",
       "      <td>4.6</td>\n",
       "      <td>3.1</td>\n",
       "      <td>1.5</td>\n",
       "      <td>0.2</td>\n",
       "      <td>0</td>\n",
       "    </tr>\n",
       "    <tr>\n",
       "      <th>4</th>\n",
       "      <td>5.0</td>\n",
       "      <td>3.6</td>\n",
       "      <td>1.4</td>\n",
       "      <td>0.2</td>\n",
       "      <td>0</td>\n",
       "    </tr>\n",
       "  </tbody>\n",
       "</table>\n",
       "</div>"
      ],
      "text/plain": [
       "   SepalLength  SepalWidth  PetalLength  PetalWidth  name_num\n",
       "0          5.1         3.5          1.4         0.2         0\n",
       "1          4.9         3.0          1.4         0.2         0\n",
       "2          4.7         3.2          1.3         0.2         0\n",
       "3          4.6         3.1          1.5         0.2         0\n",
       "4          5.0         3.6          1.4         0.2         0"
      ]
     },
     "execution_count": 3,
     "metadata": {},
     "output_type": "execute_result"
    }
   ],
   "source": [
    "#Armamos las primeras cuatro columnas\n",
    "df = pd.DataFrame(iris_dataset.data,  columns=['SepalLength', 'SepalWidth', 'PetalLength', 'PetalWidth'])\n",
    "\n",
    "#Le agregamos la columna 'name_num' con los valores de la variable \"target\"\n",
    "df['name_num']=iris_dataset.target\n",
    "\n",
    "#Revisamos las primeras filas\n",
    "df.head(n=5)"
   ]
  },
  {
   "cell_type": "markdown",
   "metadata": {},
   "source": [
    "===================================================================================================================\n",
    "**Notar** que _target_ es la variable categórica que nos indica a que tipo de especie pertenece:\n",
    "\n",
    "* 0 --->  'setosa' \n",
    "* 1 --->  'versicolor'\n",
    "* 2 --->  'virginica' \n",
    "\n",
    "\n",
    "====================================================================================================================="
   ]
  },
  {
   "cell_type": "markdown",
   "metadata": {},
   "source": [
    "Usando Pandas nos armamos un DataFrame del estilo (ejemplo de forma)\n",
    "\n",
    "\n",
    "SepalLength |\tSepalWidth\t|PetalLength|\tPetalWidth|\tName_num\n",
    "---------------|------------|------------|--------------|------------\n",
    "5.1|3.5|1.4|0.2|0\n",
    "4.9|3.0|1.4|0.2|0\n",
    "4.7|3.2|1.3|0.2|1\n",
    "4.6|3.1|1.5|0.2|2\n",
    "5.0|3.6|1.4|0.2|0\n",
    "...|...|...|...|..."
   ]
  },
  {
   "cell_type": "markdown",
   "metadata": {},
   "source": [
    "### Introducción\n",
    "\n",
    "**Objetivo:** Realizar una análisis de clustering a partir del algoritmo _k-means_ utilizando el conocido dataset de _iris_"
   ]
  },
  {
   "cell_type": "markdown",
   "metadata": {},
   "source": [
    "Primero vamos a importar las librerías necesarias:"
   ]
  },
  {
   "cell_type": "markdown",
   "metadata": {},
   "source": [
    "Usaremos **Scikit-Learn** para nuestro análisis"
   ]
  },
  {
   "cell_type": "markdown",
   "metadata": {},
   "source": [
    "##  Implementando el clustering"
   ]
  },
  {
   "cell_type": "markdown",
   "metadata": {},
   "source": [
    "#### Antes de realizar la prueba de k-means, todavía hay algunas transformaciones que hacer:\n",
    "\n",
    "Convertimos nuestros datos en un Numpy Array:"
   ]
  },
  {
   "cell_type": "markdown",
   "metadata": {},
   "source": [
    "Ya estamos listos! (¿podriamos haber obtenido la matriz de otra forma?)\n",
    "> Respuesta: Sí... `dn2 = np.array(df)`\n",
    "\n",
    "Ahora que hemos formateado nuestros datos y hemos comprendido sus estructuras, finalmente podemos ir y agrupar.\n",
    "\n",
    "Vamos a establecer __k=2__"
   ]
  },
  {
   "cell_type": "code",
   "execution_count": 4,
   "metadata": {},
   "outputs": [
    {
     "data": {
      "text/plain": [
       "KMeans(n_clusters=2, random_state=0)"
      ]
     },
     "execution_count": 4,
     "metadata": {},
     "output_type": "execute_result"
    }
   ],
   "source": [
    "k = 2\n",
    "kmeans = cluster.KMeans(n_clusters=k, random_state=0) #Como siempre, suele ser una buena práctica fijar la semilla\n",
    "kmeans.fit(df.drop('name_num',axis=1))"
   ]
  },
  {
   "cell_type": "markdown",
   "metadata": {},
   "source": [
    "Podemos utilizar las funciones integradas de Scikit para determinar las ubicaciones de los centroides y sus etiquetas:"
   ]
  },
  {
   "cell_type": "code",
   "execution_count": 5,
   "metadata": {},
   "outputs": [],
   "source": [
    "labels = kmeans.labels_\n",
    "centroids = kmeans.cluster_centers_"
   ]
  },
  {
   "cell_type": "code",
   "execution_count": 6,
   "metadata": {},
   "outputs": [],
   "source": [
    "dn = df.values"
   ]
  },
  {
   "cell_type": "code",
   "execution_count": 7,
   "metadata": {},
   "outputs": [
    {
     "data": {
      "text/plain": [
       "array([[5.00566038, 3.36981132, 1.56037736, 0.29056604],\n",
       "       [6.30103093, 2.88659794, 4.95876289, 1.69587629]])"
      ]
     },
     "execution_count": 7,
     "metadata": {},
     "output_type": "execute_result"
    }
   ],
   "source": [
    "kmeans.cluster_centers_"
   ]
  },
  {
   "cell_type": "markdown",
   "metadata": {},
   "source": [
    "## 3.3 Visualizando los clusters"
   ]
  },
  {
   "cell_type": "code",
   "execution_count": 8,
   "metadata": {},
   "outputs": [
    {
     "data": {
      "text/plain": [
       "Text(0, 0.5, 'PetalWidth')"
      ]
     },
     "execution_count": 8,
     "metadata": {},
     "output_type": "execute_result"
    },
    {
     "data": {
      "image/png": "[encoded data removed]",
      "text/plain": [
       "<Figure size 864x864 with 4 Axes>"
      ]
     },
     "metadata": {},
     "output_type": "display_data"
    }
   ],
   "source": [
    "plt.figure(figsize=(12, 12))\n",
    "\n",
    "ax1=plt.subplot(221)\n",
    "#puntos\n",
    "ax1.scatter(dn[:, 0], dn[:, 1], c=labels,alpha=0.5,s=30)\n",
    "#centroides\n",
    "ax1.scatter(centroids[0][0],centroids[0][1], c='g',s=200,marker=u'^')\n",
    "ax1.scatter(centroids[1][0],centroids[1][1], c='g',s=200,marker=u'^')\n",
    "\n",
    "ax1.set_xlabel('SepalLength')\n",
    "ax1.set_ylabel('Sepal width')\n",
    "\n",
    "ax2=plt.subplot(222)\n",
    "#puntos\n",
    "ax2.scatter(dn[:, 0], dn[:, 2], c=labels,alpha=0.5,s=30)\n",
    "#centroides\n",
    "ax2.scatter(centroids[0][0],centroids[0][2], c='g',s=200,marker=u'^')\n",
    "ax2.scatter(centroids[1][0],centroids[1][2], c='g',s=200,marker=u'^')\n",
    "\n",
    "ax2.set_xlabel('SepalLength')\n",
    "ax2.set_ylabel('PetalLength')\n",
    "\n",
    "ax3=plt.subplot(223)\n",
    "#puntos\n",
    "ax3.scatter(dn[:, 0], dn[:, 3], c=labels,alpha=0.5,s=30)\n",
    "#centroides\n",
    "ax3.scatter(centroids[0][0],centroids[0][3], c='g',s=200,marker=u'^')\n",
    "ax3.scatter(centroids[1][0],centroids[1][3], c='g',s=200,marker=u'^')\n",
    "\n",
    "ax3.set_xlabel('SepalLength')\n",
    "ax3.set_ylabel('PetalWidth')\n",
    "\n",
    "ax4=plt.subplot(224)\n",
    "#puntos\n",
    "ax4.scatter(dn[:, 1], dn[:, 3], c=labels,alpha=0.5,s=30)\n",
    "#centroides\n",
    "ax4.scatter(centroids[0][1],centroids[0][3], c='g',s=200,marker=u'^')\n",
    "ax4.scatter(centroids[1][1],centroids[1][3], c='g',s=200,marker=u'^')\n",
    "\n",
    "ax4.set_xlabel('SepalWidth')\n",
    "ax4.set_ylabel('PetalWidth')"
   ]
  },
  {
   "cell_type": "markdown",
   "metadata": {},
   "source": [
    "## 3.4. Evaluando los clusters"
   ]
  },
  {
   "cell_type": "markdown",
   "metadata": {},
   "source": [
    "Para evaluar los clusters y elegir el mejor K utilizaremos la métrica silhouette score"
   ]
  },
  {
   "cell_type": "code",
   "execution_count": 10,
   "metadata": {},
   "outputs": [],
   "source": [
    "from sklearn.preprocessing import StandardScaler\n",
    "X = df.drop('name_num',axis= 1)\n",
    "ss = StandardScaler()\n",
    "ss_cluster = ss.fit_transform(X)"
   ]
  },
  {
   "cell_type": "code",
   "execution_count": null,
   "metadata": {},
   "outputs": [],
   "source": [
    "from sklearn.cluster import KMeans\n",
    "from sklearn.metrics import silhouette_samples, silhouette_score\n",
    "\n",
    "import matplotlib.pyplot as plt\n",
    "import matplotlib.cm as cm\n",
    "import numpy as np\n",
    "\n",
    "\n",
    "#X = cluster.drop(['categorization_tier_3','incident_number_count'],axis = 1)\n",
    "\n",
    "X = df.drop('name_num',axis=1)#,'max_proporcion']]\n",
    "X = ss.fit_transform(X)\n",
    "range_n_clusters = [2, 3, 4, 5, 6, 7, 8, 9, 10 , 11, 12, 13 , 14 , 15]\n",
    "\n",
    "for n_clusters in range_n_clusters:\n",
    "\n",
    "\n",
    "    # Inicializar el cluster con n_clusters\n",
    "    # random_state en 10 para hacerlo reproducible\n",
    "    clusterer = KMeans(n_clusters=n_clusters, random_state=42)\n",
    "    cluster_labels = clusterer.fit_predict(X)\n",
    "\n",
    "    # The silhouette_score gives the average value for all the samples.\n",
    "    # This gives a perspective into the density and separation of the formed\n",
    "    # clusters\n",
    "    silhouette_avg = silhouette_score(X, cluster_labels)\n",
    "    print(\"For n_clusters =\", n_clusters,\n",
    "          \"The average silhouette_score is :\", silhouette_avg)\n"
   ]
  },
  {
   "cell_type": "code",
   "execution_count": null,
   "metadata": {},
   "outputs": [],
   "source": [
    "kmeans = KMeans(n_clusters=2,random_state=42)\n",
    "kmeans.fit(X)\n",
    "y_kmeans = kmeans.predict(X)"
   ]
  },
  {
   "cell_type": "code",
   "execution_count": null,
   "metadata": {},
   "outputs": [],
   "source": [
    "from sklearn.decomposition import PCA\n",
    "pca = PCA(n_components=2)\n",
    "pca.fit_transform(ss_cluster.transpose())\n",
    "\n",
    "principalDf = pd.DataFrame(data = pca.components_ ).transpose()\n",
    "principalDf.columns = ['pc1','pc2']\n",
    "principalDf['clase'] = df.name_num\n",
    "principalDf['cluster'] =  y_kmeans\n",
    "df['cluster'] = y_kmeans"
   ]
  },
  {
   "cell_type": "code",
   "execution_count": null,
   "metadata": {},
   "outputs": [],
   "source": [
    "plt.figure(figsize=(15,15))\n",
    "\n",
    "sns.relplot(x ='pc1',y='pc2', data=principalDf,hue='cluster',palette=['royalblue','rebeccapurple'],s=200)\n",
    "plt.show()"
   ]
  },
  {
   "cell_type": "markdown",
   "metadata": {},
   "source": [
    "Reduciendo el dataset a 2 dimensiones utilizando PCA podemos ver que tan bien encontró los grupos el algoritmo K-Means"
   ]
  },
  {
   "cell_type": "markdown",
   "metadata": {},
   "source": [
    "# DBSCAN"
   ]
  },
  {
   "cell_type": "markdown",
   "metadata": {},
   "source": [
    "Para implementar DBSCAN primero importamos los paquetes necesarios de `sklearn` y los datos de iris"
   ]
  },
  {
   "cell_type": "markdown",
   "metadata": {},
   "source": [
    "## Introducción: importando datos"
   ]
  },
  {
   "cell_type": "code",
   "execution_count": null,
   "metadata": {},
   "outputs": [],
   "source": [
    "from sklearn.cluster import DBSCAN, KMeans\n",
    "from sklearn.datasets import load_iris\n",
    "from sklearn.preprocessing import StandardScaler\n",
    "from sklearn import metrics\n",
    "import pandas as pd\n",
    "import numpy as np\n",
    "import matplotlib.pyplot as plt\n",
    "%matplotlib inline "
   ]
  },
  {
   "cell_type": "code",
   "execution_count": null,
   "metadata": {},
   "outputs": [],
   "source": [
    "data = load_iris()"
   ]
  },
  {
   "cell_type": "code",
   "execution_count": null,
   "metadata": {},
   "outputs": [],
   "source": [
    "X, y = data.data, data.target"
   ]
  },
  {
   "cell_type": "markdown",
   "metadata": {},
   "source": [
    "## Desarrollo"
   ]
  },
  {
   "cell_type": "markdown",
   "metadata": {},
   "source": [
    "### Estandarizamos las variables "
   ]
  },
  {
   "cell_type": "code",
   "execution_count": null,
   "metadata": {},
   "outputs": [],
   "source": [
    "X = StandardScaler().fit_transform(X)"
   ]
  },
  {
   "cell_type": "markdown",
   "metadata": {},
   "source": [
    "### Generamos los clusters y extraemos las etiquetas"
   ]
  },
  {
   "cell_type": "markdown",
   "metadata": {},
   "source": [
    "Implementamos `DBSCAN`"
   ]
  },
  {
   "cell_type": "code",
   "execution_count": null,
   "metadata": {},
   "outputs": [],
   "source": [
    "dbscn = DBSCAN(eps = 0.8, min_samples = 7).fit(X)"
   ]
  },
  {
   "cell_type": "markdown",
   "metadata": {},
   "source": [
    "Aquí seteamos un valor de epsilon (`eps`) 0.8 y el mínimo de puntos (`min_samples`) a 7.\n",
    "\n",
    "Como regla general al elegir el mínimo de pntos, siempre se debería tratar de setear este parámetro en un valor igual o mayor al número de dimensiones en los datos más uno. Epsilon es un poco mpas complejo y usa un método llamado k-distancias, que puede ayudar a visualizar el mejor epsilon. Vamos a ver de qué forma diferentes valores de epsilon afectan los resultados."
   ]
  },
  {
   "cell_type": "code",
   "execution_count": null,
   "metadata": {},
   "outputs": [],
   "source": [
    "core_samples = dbscn.core_sample_indices_\n",
    "labels = dbscn.labels_  "
   ]
  },
  {
   "cell_type": "markdown",
   "metadata": {},
   "source": [
    "El algoritmo DBSCAN en `sklearn` devuelve dos elementos:\n",
    "    \n",
    "   - `core_samples`: son los índices de puntos alrededor de los que el algoritmo busca para formar los clusters\n",
    "   - `labels` :las etiquetas\n",
    "   - `components`: es una copia de los registros del dataset original que coincide con las core samples"
   ]
  },
  {
   "cell_type": "markdown",
   "metadata": {},
   "source": [
    "#### ¿Cuántos puntos \"ruidosos\" hay en el dataset?"
   ]
  },
  {
   "cell_type": "code",
   "execution_count": null,
   "metadata": {},
   "outputs": [],
   "source": [
    "labels = dbscn.labels_\n",
    "core_samples_mask = np.zeros_like(labels, dtype=bool) # Generamos un array lleno de 0's del mismo shape que `labels`\n",
    "core_samples_mask[dbscn.core_sample_indices_] = True # Para aquellos que formen parte de los índices de core sample ponemos True\n",
    "\n",
    "np.sum(labels == -1)"
   ]
  },
  {
   "cell_type": "markdown",
   "metadata": {},
   "source": [
    "####  ¿Cuántos clusters se generaron?"
   ]
  },
  {
   "cell_type": "code",
   "execution_count": null,
   "metadata": {
    "scrolled": false
   },
   "outputs": [],
   "source": [
    "n_clusters_ = np.unique([l for l in labels if l != -1]).shape[0]\n",
    "print('Number of clusters: ', n_clusters_)"
   ]
  },
  {
   "cell_type": "markdown",
   "metadata": {},
   "source": [
    "## Evaluando la performance de DBSCAN"
   ]
  },
  {
   "cell_type": "markdown",
   "metadata": {},
   "source": [
    "Podemos usar estos comandos para evaluar la performance de DBSCAN. Una aclaración: como podrán ver, hemos usado las medidas que hemos visto la clase pasada. Pueden investigar muchas otras medidas en la documentación de [Scikit-Learn](http://scikit-learn.org/stable/modules/clustering#clustering-performance-evaluation)."
   ]
  },
  {
   "cell_type": "code",
   "execution_count": null,
   "metadata": {},
   "outputs": [],
   "source": [
    "def eval_dbscan(n_clusters, X, y, labels):\n",
    "    print('Estimated number of clusters: %d' % n_clusters), \"\\n\"\n",
    "    print(\"Silhouette Coefficient: %0.3f\" % metrics.silhouette_score(X, labels))"
   ]
  },
  {
   "cell_type": "code",
   "execution_count": null,
   "metadata": {},
   "outputs": [],
   "source": [
    "eval_dbscan(n_clusters_, X, y, labels)"
   ]
  },
  {
   "cell_type": "markdown",
   "metadata": {},
   "source": [
    "** Ploteamos los resultados **"
   ]
  },
  {
   "cell_type": "markdown",
   "metadata": {},
   "source": [
    "Graficamos los resultados: la idea es poder visualizar de forma diferenciada los puntos. \n",
    "\n",
    "- los colores diferencian los clusters\n",
    "- en círculos coloreados grandes veremos los \"core points\"\n",
    "- en cŕiculos coloreados pequeños, los \"reacheable points\"\n",
    "- en círculos pequeños negros, los puntos ruidosos"
   ]
  },
  {
   "cell_type": "code",
   "execution_count": null,
   "metadata": {},
   "outputs": [],
   "source": [
    "# Generamos una paleta de colores\n",
    "\n",
    "unique_labels = set(labels)\n",
    "colors = [plt.cm.Spectral(each) for each in np.linspace(0, 1, len(unique_labels))]"
   ]
  },
  {
   "cell_type": "code",
   "execution_count": null,
   "metadata": {},
   "outputs": [],
   "source": [
    "# Iteramos sobre las etiquetas únicas y sobre los colores\n",
    "#### Si es un caso ruidoso (k=-1) le asigamos el color negro\n",
    "#### Si no, subseteamos el array con los datos en función de la etiqueta y si es o no un punto núcleo\n",
    "#### Si es un punto núcleo, lo ploteamos tamaño grande\n",
    "#### Si NO es un punto núcleo, lo ploteamos tamaño pequeño\n",
    "#### Los colores representan los clusters\n",
    "\n",
    "plt.figure(figsize=[8,8])\n",
    "for k, col in zip(unique_labels, colors):\n",
    "    if k == -1:         \n",
    "        col = [0, 0, 0, 1]\n",
    "    class_member_mask = (labels == k)\n",
    "    xy = X[class_member_mask & core_samples_mask]\n",
    "    plt.plot(xy[:, 0], xy[:, 1], 'o', markerfacecolor=tuple(col), markeredgecolor='k', markersize=10)\n",
    "\n",
    "    xy = X[class_member_mask & ~core_samples_mask]\n",
    "    plt.plot(xy[:, 0], xy[:, 1], 'o', markerfacecolor=tuple(col), markeredgecolor='k', markersize=6)\n",
    "\n",
    "plt.title('Estimated number of clusters: %d' % n_clusters_)\n",
    "plt.show()"
   ]
  }
 ],
 "metadata": {
  "kernelspec": {
   "display_name": "Python 3 (ipykernel)",
   "language": "python",
   "name": "python3"
  },
  "language_info": {
   "codemirror_mode": {
    "name": "ipython",
    "version": 3
   },
   "file_extension": ".py",
   "mimetype": "text/x-python",
   "name": "python",
   "nbconvert_exporter": "python",
   "pygments_lexer": "ipython3",
   "version": "3.10.9"
  }
 },
 "nbformat": 4,
 "nbformat_minor": 2
}
